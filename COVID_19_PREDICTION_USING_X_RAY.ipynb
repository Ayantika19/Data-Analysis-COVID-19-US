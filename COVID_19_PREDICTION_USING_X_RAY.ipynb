{
  "nbformat": 4,
  "nbformat_minor": 0,
  "metadata": {
    "colab": {
      "name": "COVID_19_PREDICTION_USING_X-RAY.ipynb",
      "provenance": [],
      "collapsed_sections": [],
      "include_colab_link": true
    },
    "kernelspec": {
      "name": "python3",
      "display_name": "Python 3"
    },
    "language_info": {
      "name": "python"
    }
  },
  "cells": [
    {
      "cell_type": "markdown",
      "metadata": {
        "id": "view-in-github",
        "colab_type": "text"
      },
      "source": [
        "<a href=\"https://colab.research.google.com/github/Ayantika19/Data-Analysis-COVID-19-US/blob/main/COVID_19_PREDICTION_USING_X_RAY.ipynb\" target=\"_parent\"><img src=\"https://colab.research.google.com/assets/colab-badge.svg\" alt=\"Open In Colab\"/></a>"
      ]
    },
    {
      "cell_type": "code",
      "metadata": {
        "colab": {
          "base_uri": "https://localhost:8080/"
        },
        "id": "1t9NbKb7plb0",
        "outputId": "e95cb81d-2f72-4bc8-c3cf-68c08c87f4b3"
      },
      "source": [
        "# Upload google drive in our COLAB\n",
        "\n",
        "from google.colab import drive\n",
        "drive.mount('/content/drive')\n"
      ],
      "execution_count": null,
      "outputs": [
        {
          "output_type": "stream",
          "text": [
            "Mounted at /content/drive\n"
          ],
          "name": "stdout"
        }
      ]
    },
    {
      "cell_type": "code",
      "metadata": {
        "id": "Om7g73efwbJH"
      },
      "source": [
        "\n",
        "# install tensorflow version 2\n",
        "%tensorflow_version 2.x\n",
        "\n"
      ],
      "execution_count": null,
      "outputs": []
    },
    {
      "cell_type": "code",
      "metadata": {
        "id": "ng0k2u_E5XVu"
      },
      "source": [
        "# Importing library\n",
        "\n",
        "import tensorflow.keras\n",
        "from tensorflow.keras.models import Model\n",
        "from tensorflow.keras.layers import Input, Dense, Activation, Flatten, Conv2D, MaxPool2D, Dropout\n",
        "from tensorflow.keras.optimizers import Adam \n",
        "from tensorflow.keras.preprocessing.image import ImageDataGenerator\n",
        "from tensorflow.keras.losses import binary_crossentropy\n",
        "from tensorflow.keras import metrics\n",
        "import matplotlib.pyplot as plt\n",
        "from sklearn.metrics import classification_report, confusion_matrix, plot_confusion_matrix, ConfusionMatrixDisplay\n",
        "import numpy as np\n"
      ],
      "execution_count": null,
      "outputs": []
    },
    {
      "cell_type": "code",
      "metadata": {
        "id": "3k-KAqd7KvHa"
      },
      "source": [
        "# Create path\n",
        "\n",
        "train_loc = '/content/drive/My Drive/COVID_19_DATASET_SHREOSHI/train/'\n",
        "test_loc = '/content/drive/My Drive/COVID_19_DATASET_SHREOSHI/val/'"
      ],
      "execution_count": null,
      "outputs": []
    },
    {
      "cell_type": "code",
      "metadata": {
        "colab": {
          "base_uri": "https://localhost:8080/"
        },
        "id": "QEdM-_G93e1x",
        "outputId": "613dfe48-e62a-41de-82bc-cc75b8162e79"
      },
      "source": [
        "# resize images \n",
        "\n",
        "trdata = ImageDataGenerator(rescale= 1./255,\n",
        "                            shear_range = 0.2,\n",
        "                            zoom_range = 0.2,\n",
        "                            horizontal_flip = True,\n",
        ")\n",
        "\n",
        "traindata = trdata.flow_from_directory(directory = train_loc, target_size = (224,224))\n",
        "\n",
        "tsdata = ImageDataGenerator(rescale= 1./255,\n",
        "                            shear_range = 0.2,\n",
        "                            zoom_range = 0.2,\n",
        "                            horizontal_flip = True,\n",
        ")\n",
        "\n",
        "testdata = tsdata.flow_from_directory(directory = test_loc, target_size = (224,224))"
      ],
      "execution_count": null,
      "outputs": [
        {
          "output_type": "stream",
          "text": [
            "Found 250 images belonging to 2 classes.\n",
            "Found 110 images belonging to 2 classes.\n"
          ],
          "name": "stdout"
        }
      ]
    },
    {
      "cell_type": "code",
      "metadata": {
        "colab": {
          "base_uri": "https://localhost:8080/"
        },
        "id": "Hfni5PE45w8d",
        "outputId": "938925cd-99bd-46ea-880e-1bf7909e6305"
      },
      "source": [
        "traindata.class_indices"
      ],
      "execution_count": null,
      "outputs": [
        {
          "output_type": "execute_result",
          "data": {
            "text/plain": [
              "{'COVID+': 0, 'COVID-': 1}"
            ]
          },
          "metadata": {
            "tags": []
          },
          "execution_count": 8
        }
      ]
    },
    {
      "cell_type": "code",
      "metadata": {
        "id": "5PRCtOTm5z2W"
      },
      "source": [
        "# define input image\n",
        "input_shape = (224,224,3)\n",
        "\n",
        "# create the Network\n",
        "# Input layer\n",
        "img_imput = Input(shape  = input_shape, name = 'img_input')\n",
        "\n",
        "# Convo layers\n",
        "x = Conv2D(32, (3,3) , padding = 'same' , activation='relu', name = 'layer_1') (img_imput)\n",
        "x = Conv2D(64, (3,3) , padding = 'same' , activation='relu', name = 'layer_2') (x)\n",
        "x = MaxPool2D((2,2), strides=(2,2), name = 'layer_3') (x)\n",
        "x = Dropout(0.25)(x)\n",
        "\n",
        "x = Conv2D(64, (3,3) , padding = 'same' , activation='relu', name = 'layer_4') (x)\n",
        "x = MaxPool2D((2,2), strides=(2,2), name = 'layer_5') (x)\n",
        "x = Dropout(0.25)(x)\n",
        "\n",
        "x = Conv2D(128, (3,3) , padding = 'same' , activation='relu', name = 'layer_6') (x)\n",
        "x = MaxPool2D((2,2), strides=(2,2), name = 'layer_7') (x)\n",
        "x = Dropout(0.25)(x)\n",
        "\n",
        "x = Flatten(name = 'fc_1')(x)\n",
        "x= Dense(64, name = 'layer_8')(x)\n",
        "x = Dropout(0.5) (x)\n",
        "x = Dense(2, activation='sigmoid', name='predictions')(x)"
      ],
      "execution_count": null,
      "outputs": []
    },
    {
      "cell_type": "code",
      "metadata": {
        "id": "fAu3Dq4s6DIC"
      },
      "source": [
        "# Generate the model\n",
        "model = Model(inputs = img_imput, outputs =x , name='CNN_COVID_19')"
      ],
      "execution_count": null,
      "outputs": []
    },
    {
      "cell_type": "code",
      "metadata": {
        "colab": {
          "base_uri": "https://localhost:8080/"
        },
        "id": "rvSMsIya6Fat",
        "outputId": "f747f4b2-9782-421b-a314-df86c9a258c4"
      },
      "source": [
        "# Print network structure\n",
        "model.summary()"
      ],
      "execution_count": null,
      "outputs": [
        {
          "output_type": "stream",
          "text": [
            "Model: \"CNN_COVID_19\"\n",
            "_________________________________________________________________\n",
            "Layer (type)                 Output Shape              Param #   \n",
            "=================================================================\n",
            "img_input (InputLayer)       [(None, 224, 224, 3)]     0         \n",
            "_________________________________________________________________\n",
            "layer_1 (Conv2D)             (None, 224, 224, 32)      896       \n",
            "_________________________________________________________________\n",
            "layer_2 (Conv2D)             (None, 224, 224, 64)      18496     \n",
            "_________________________________________________________________\n",
            "layer_3 (MaxPooling2D)       (None, 112, 112, 64)      0         \n",
            "_________________________________________________________________\n",
            "dropout (Dropout)            (None, 112, 112, 64)      0         \n",
            "_________________________________________________________________\n",
            "layer_4 (Conv2D)             (None, 112, 112, 64)      36928     \n",
            "_________________________________________________________________\n",
            "layer_5 (MaxPooling2D)       (None, 56, 56, 64)        0         \n",
            "_________________________________________________________________\n",
            "dropout_1 (Dropout)          (None, 56, 56, 64)        0         \n",
            "_________________________________________________________________\n",
            "layer_6 (Conv2D)             (None, 56, 56, 128)       73856     \n",
            "_________________________________________________________________\n",
            "layer_7 (MaxPooling2D)       (None, 28, 28, 128)       0         \n",
            "_________________________________________________________________\n",
            "dropout_2 (Dropout)          (None, 28, 28, 128)       0         \n",
            "_________________________________________________________________\n",
            "fc_1 (Flatten)               (None, 100352)            0         \n",
            "_________________________________________________________________\n",
            "layer_8 (Dense)              (None, 64)                6422592   \n",
            "_________________________________________________________________\n",
            "dropout_3 (Dropout)          (None, 64)                0         \n",
            "_________________________________________________________________\n",
            "predictions (Dense)          (None, 2)                 130       \n",
            "=================================================================\n",
            "Total params: 6,552,898\n",
            "Trainable params: 6,552,898\n",
            "Non-trainable params: 0\n",
            "_________________________________________________________________\n"
          ],
          "name": "stdout"
        }
      ]
    },
    {
      "cell_type": "code",
      "metadata": {
        "id": "zDdnHBMN6MUa"
      },
      "source": [
        "# Compiling the model\n",
        "model.compile(optimizer='adam', loss=binary_crossentropy, metrics=['accuracy'])"
      ],
      "execution_count": null,
      "outputs": []
    },
    {
      "cell_type": "code",
      "metadata": {
        "colab": {
          "base_uri": "https://localhost:8080/"
        },
        "id": "jr94ygsX6WHo",
        "outputId": "c0e6cb92-f57e-4a20-eece-0142503cbf0d"
      },
      "source": [
        "# start Train/Test\n",
        "batch_size = 34\n",
        "hist = model.fit(traindata, steps_per_epoch = traindata.samples//batch_size,\n",
        "                 validation_data = testdata,validation_steps = testdata.samples//batch_size,\n",
        "                 epochs = 10\n",
        "                 )"
      ],
      "execution_count": null,
      "outputs": [
        {
          "output_type": "stream",
          "text": [
            "Epoch 1/10\n",
            "7/7 [==============================] - 201s 29s/step - loss: 1.2141 - accuracy: 0.6881 - val_loss: 0.5849 - val_accuracy: 0.6979\n",
            "Epoch 2/10\n",
            "7/7 [==============================] - 68s 10s/step - loss: 0.4256 - accuracy: 0.8394 - val_loss: 0.3433 - val_accuracy: 0.8958\n",
            "Epoch 3/10\n",
            "7/7 [==============================] - 68s 10s/step - loss: 0.3425 - accuracy: 0.8853 - val_loss: 0.3809 - val_accuracy: 0.9271\n",
            "Epoch 4/10\n",
            "7/7 [==============================] - 68s 10s/step - loss: 0.3100 - accuracy: 0.8945 - val_loss: 0.2887 - val_accuracy: 0.9479\n",
            "Epoch 5/10\n",
            "7/7 [==============================] - 68s 10s/step - loss: 0.2781 - accuracy: 0.9083 - val_loss: 0.4330 - val_accuracy: 0.9271\n",
            "Epoch 6/10\n",
            "7/7 [==============================] - 68s 10s/step - loss: 0.2741 - accuracy: 0.8945 - val_loss: 0.2187 - val_accuracy: 0.9688\n",
            "Epoch 7/10\n",
            "7/7 [==============================] - 69s 10s/step - loss: 0.1847 - accuracy: 0.9509 - val_loss: 0.3057 - val_accuracy: 0.9688\n",
            "Epoch 8/10\n",
            "7/7 [==============================] - 70s 10s/step - loss: 0.1382 - accuracy: 0.9598 - val_loss: 0.0907 - val_accuracy: 0.9896\n",
            "Epoch 9/10\n",
            "7/7 [==============================] - 67s 10s/step - loss: 0.1256 - accuracy: 0.9450 - val_loss: 0.1481 - val_accuracy: 0.9688\n",
            "Epoch 10/10\n",
            "7/7 [==============================] - 68s 10s/step - loss: 0.0897 - accuracy: 0.9679 - val_loss: 0.0741 - val_accuracy: 0.9688\n"
          ],
          "name": "stdout"
        }
      ]
    },
    {
      "cell_type": "code",
      "metadata": {
        "colab": {
          "base_uri": "https://localhost:8080/",
          "height": 281
        },
        "id": "HzAzRCD4_Wx4",
        "outputId": "7f43aa1e-389c-4136-920b-70840f6eda56"
      },
      "source": [
        "plt.plot(hist.history['loss'], label = 'train')\n",
        "plt.plot(hist.history['val_loss'], label = 'val')\n",
        "plt.title('CNN_COVID_19 :  Loss  &  Validation Loss')\n",
        "plt.legend()\n",
        "plt.show()"
      ],
      "execution_count": null,
      "outputs": [
        {
          "output_type": "display_data",
          "data": {
            "image/png": "[encoded data removed]",
            "text/plain": [
              "<Figure size 432x288 with 1 Axes>"
            ]
          },
          "metadata": {
            "tags": [],
            "needs_background": "light"
          }
        }
      ]
    },
    {
      "cell_type": "code",
      "metadata": {
        "colab": {
          "base_uri": "https://localhost:8080/",
          "height": 281
        },
        "id": "xJQ7FuE1_d9f",
        "outputId": "c21bd338-4e18-4a28-84b2-b9e894bab928"
      },
      "source": [
        "plt.plot(hist.history['accuracy'], label = 'train')\n",
        "plt.plot(hist.history['val_accuracy'], label = 'val')\n",
        "plt.title('CNN_COVID_19 :  Accuracy  &  Validation Accuracy')\n",
        "plt.legend()\n",
        "plt.show()"
      ],
      "execution_count": null,
      "outputs": [
        {
          "output_type": "display_data",
          "data": {
            "image/png": "[encoded data removed]",
            "text/plain": [
              "<Figure size 432x288 with 1 Axes>"
            ]
          },
          "metadata": {
            "tags": [],
            "needs_background": "light"
          }
        }
      ]
    },
    {
      "cell_type": "code",
      "metadata": {
        "colab": {
          "base_uri": "https://localhost:8080/",
          "height": 555
        },
        "id": "RKwPkgkP_g1d",
        "outputId": "70361547-a50a-4d48-db9e-2b557fe5fc94"
      },
      "source": [
        "# Confusion Matrix  & Pres  & Recall   & F1-Score\n",
        "\n",
        "target_names = ['COVID+', 'COVID-']\n",
        "label_names = [0,1]\n",
        "\n",
        "Y_pred = model.predict_generator(testdata)\n",
        "y_pred = np.argmax(Y_pred ,  axis = 1)\n",
        "\n",
        "cm = confusion_matrix(testdata.classes, y_pred, labels = label_names)\n",
        "\n",
        "\n",
        "print('Confusion Matrix')\n",
        "print(confusion_matrix(testdata.classes, y_pred))\n",
        "\n",
        "print('classification_Report')\n",
        "print(classification_report(testdata.classes, y_pred, target_names=target_names))\n",
        "\n",
        "disp = ConfusionMatrixDisplay(confusion_matrix= cm, display_labels=target_names)\n",
        "disp = disp.plot(cmap=plt.cm.Blues, values_format = 'g')\n",
        "plt.show()\n"
      ],
      "execution_count": null,
      "outputs": [
        {
          "output_type": "stream",
          "text": [
            "/usr/local/lib/python3.7/dist-packages/tensorflow/python/keras/engine/training.py:2001: UserWarning: `Model.predict_generator` is deprecated and will be removed in a future version. Please use `Model.predict`, which supports generators.\n",
            "  warnings.warn('`Model.predict_generator` is deprecated and '\n"
          ],
          "name": "stderr"
        },
        {
          "output_type": "stream",
          "text": [
            "Confusion Matrix\n",
            "[[31 24]\n",
            " [26 29]]\n",
            "classification_Report\n",
            "              precision    recall  f1-score   support\n",
            "\n",
            "      COVID+       0.54      0.56      0.55        55\n",
            "      COVID-       0.55      0.53      0.54        55\n",
            "\n",
            "    accuracy                           0.55       110\n",
            "   macro avg       0.55      0.55      0.55       110\n",
            "weighted avg       0.55      0.55      0.55       110\n",
            "\n"
          ],
          "name": "stdout"
        },
        {
          "output_type": "display_data",
          "data": {
            "image/png": "[encoded data removed]",
            "text/plain": [
              "<Figure size 432x288 with 2 Axes>"
            ]
          },
          "metadata": {
            "tags": [],
            "needs_background": "light"
          }
        }
      ]
    }
  ]
}